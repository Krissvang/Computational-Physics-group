{
 "cells": [
  {
   "cell_type": "code",
   "execution_count": 1,
   "metadata": {},
   "outputs": [
    {
     "ename": "IndexError",
     "evalue": "too many indices for array",
     "output_type": "error",
     "traceback": [
      "\u001b[0;31m---------------------------------------------------------------------------\u001b[0m",
      "\u001b[0;31mIndexError\u001b[0m                                Traceback (most recent call last)",
      "\u001b[0;32m<ipython-input-1-9f6fa82b6bf1>\u001b[0m in \u001b[0;36m<module>\u001b[0;34m\u001b[0m\n\u001b[1;32m     36\u001b[0m     \u001b[0minfile\u001b[0m \u001b[0;34m=\u001b[0m \u001b[0mopen\u001b[0m\u001b[0;34m(\u001b[0m\u001b[0mfname\u001b[0m\u001b[0;34m,\u001b[0m\u001b[0;34m\"r\"\u001b[0m\u001b[0;34m)\u001b[0m\u001b[0;34m\u001b[0m\u001b[0;34m\u001b[0m\u001b[0m\n\u001b[1;32m     37\u001b[0m     \u001b[0mlines\u001b[0m\u001b[0;34m=\u001b[0m\u001b[0minfile\u001b[0m\u001b[0;34m.\u001b[0m\u001b[0mreadlines\u001b[0m\u001b[0;34m(\u001b[0m\u001b[0;34m)\u001b[0m\u001b[0;34m\u001b[0m\u001b[0;34m\u001b[0m\u001b[0m\n\u001b[0;32m---> 38\u001b[0;31m     \u001b[0meigen_0\u001b[0m\u001b[0;34m[\u001b[0m\u001b[0mfile_val\u001b[0m\u001b[0;34m]\u001b[0m\u001b[0;34m=\u001b[0m\u001b[0mfloat\u001b[0m\u001b[0;34m(\u001b[0m\u001b[0mlines\u001b[0m\u001b[0;34m[\u001b[0m\u001b[0;36m3\u001b[0m\u001b[0;34m]\u001b[0m\u001b[0;34m.\u001b[0m\u001b[0msplit\u001b[0m\u001b[0;34m(\u001b[0m\u001b[0;34m)\u001b[0m\u001b[0;34m[\u001b[0m\u001b[0;36m0\u001b[0m\u001b[0;34m]\u001b[0m\u001b[0;34m)\u001b[0m\u001b[0;34m\u001b[0m\u001b[0;34m\u001b[0m\u001b[0m\n\u001b[0m\u001b[1;32m     39\u001b[0m     \u001b[0meigen_1\u001b[0m\u001b[0;34m=\u001b[0m\u001b[0mfloat\u001b[0m\u001b[0;34m(\u001b[0m\u001b[0mlines\u001b[0m\u001b[0;34m[\u001b[0m\u001b[0;36m4\u001b[0m\u001b[0;34m]\u001b[0m\u001b[0;34m.\u001b[0m\u001b[0msplit\u001b[0m\u001b[0;34m(\u001b[0m\u001b[0;34m)\u001b[0m\u001b[0;34m[\u001b[0m\u001b[0;36m0\u001b[0m\u001b[0;34m]\u001b[0m\u001b[0;34m)\u001b[0m\u001b[0;34m\u001b[0m\u001b[0;34m\u001b[0m\u001b[0m\n\u001b[1;32m     40\u001b[0m     \u001b[0meigen_2\u001b[0m\u001b[0;34m=\u001b[0m\u001b[0mfloat\u001b[0m\u001b[0;34m(\u001b[0m\u001b[0mlines\u001b[0m\u001b[0;34m[\u001b[0m\u001b[0;36m5\u001b[0m\u001b[0;34m]\u001b[0m\u001b[0;34m.\u001b[0m\u001b[0msplit\u001b[0m\u001b[0;34m(\u001b[0m\u001b[0;34m)\u001b[0m\u001b[0;34m[\u001b[0m\u001b[0;36m0\u001b[0m\u001b[0;34m]\u001b[0m\u001b[0;34m)\u001b[0m\u001b[0;34m\u001b[0m\u001b[0;34m\u001b[0m\u001b[0m\n",
      "\u001b[0;31mIndexError\u001b[0m: too many indices for array"
     ]
    }
   ],
   "source": [
    "import numpy as np\n",
    "import matplotlib.pyplot as plt\n",
    "\n",
    "n=200\n",
    "\"\"\"\"tol = 1e-10\n",
    "max_r = 10\n",
    "h = max_r/(n+1)\n",
    "r = np.linspace(0,max_r,n+2)\n",
    "fname = \"Result/finel_result\"\n",
    "v0 = np.zeros(n+2)\n",
    "v1 = np.zeros(n+2)\n",
    "v2 = np.zeros(n+2)\n",
    "e_vals, v0[1:-1], v1[1:-1], v2[1:-1] = \\\n",
    "    np.loadtxt(fname,skiprows=3,unpack=True)\n",
    "#print(e_vals)\n",
    "plt.figure()\n",
    "plt.plot(r,v0**2)\n",
    "plt.plot(r,v1**2)\n",
    "plt.plot(r,v2**2)\n",
    "plt.title(r\"Wave function for one electron in a harmonic oscillator potential \")\n",
    "plt.xlabel(r\"r/$\\alpha$\")\n",
    "plt.ylabel(r\"$\\propto r^2R^2$\")\n",
    "plt.axis([0,max_r,0,1.1*max(v0**2)])\n",
    "plt.savefig(\"Plot.pdf\") \"\"\"\n",
    "\n",
    "\n",
    "file_values = np.array([0,1,2,3,4,5,6,7,8,9])\n",
    "r_values = np.array([4,6,8,10,12,14,16,18,20,22])\n",
    "eigen_0 = np.array(10)\n",
    "eigen_1 = np.array(10)\n",
    "eigen_2= np.array(10)\n",
    "eigen_3= np.array(10)\n",
    "\n",
    "for file_val in file_values:\n",
    "    fname = \"Results/n_constant_%d\" % file_val\n",
    "    infile = open(fname,\"r\")\n",
    "    lines=infile.readlines()\n",
    "    eigen_0[file_val]=float(lines[3].split()[0])\n",
    "    eigen_1=float(lines[4].split()[0])\n",
    "    eigen_2=float(lines[5].split()[0])\n",
    "    eigen_3=float(lines[6].split()[0])\n",
    "\n",
    "eigen_0=np.transpose(eigen_0)\n",
    "print(eigen_0)\n",
    "plt.figure()\n",
    "#plt.plot(r_values,eigen_0.T)"
   ]
  },
  {
   "cell_type": "code",
   "execution_count": null,
   "metadata": {},
   "outputs": [],
   "source": []
  }
 ],
 "metadata": {
  "kernelspec": {
   "display_name": "Python 3",
   "language": "python",
   "name": "python3"
  },
  "language_info": {
   "codemirror_mode": {
    "name": "ipython",
    "version": 3
   },
   "file_extension": ".py",
   "mimetype": "text/x-python",
   "name": "python",
   "nbconvert_exporter": "python",
   "pygments_lexer": "ipython3",
   "version": "3.7.4"
  }
 },
 "nbformat": 4,
 "nbformat_minor": 2
}
