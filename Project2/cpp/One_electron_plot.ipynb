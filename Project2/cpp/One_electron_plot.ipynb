{
 "cells": [
  {
   "cell_type": "code",
   "execution_count": 34,
   "metadata": {},
   "outputs": [],
   "source": [
    "import numpy as np\n",
    "import matplotlib.pyplot as plt\n",
    "\n",
    "n=200\n",
    "tol = 1e-10\n",
    "max_r = 10\n",
    "h = max_r/(n+1)\n",
    "r = np.linspace(0,max_r,n+2)\n",
    "fname = \"result\"\n",
    "v0 = np.zeros(n+2)\n",
    "v1 = np.zeros(n+2)\n",
    "v2 = np.zeros(n+2)\n",
    "e_vals, v0[1:-1], v1[1:-1], v2[1:-1] = \\\n",
    "    np.loadtxt(fname,skiprows=3,unpack=True)\n",
    "#print(e_vals)\n",
    "plt.figure()\n",
    "plt.plot(r,v0**2)\n",
    "plt.plot(r,v1**2)\n",
    "plt.plot(r,v2**2)\n",
    "plt.title(r\"Wave function for one electron in a harmonic oscillator potential \")\n",
    "plt.xlabel(r\"r/$\\alpha$\")\n",
    "plt.ylabel(r\"$\\propto r^2R^2$\")\n",
    "plt.axis([0,max_r,0,1.1*max(v0**2)])\n",
    "plt.savefig(\"Plot.pdf\")"
   ]
  },
  {
   "cell_type": "code",
   "execution_count": null,
   "metadata": {},
   "outputs": [],
   "source": []
  }
 ],
 "metadata": {
  "kernelspec": {
   "display_name": "Python 3",
   "language": "python",
   "name": "python3"
  },
  "language_info": {
   "codemirror_mode": {
    "name": "ipython",
    "version": 3
   },
   "file_extension": ".py",
   "mimetype": "text/x-python",
   "name": "python",
   "nbconvert_exporter": "python",
   "pygments_lexer": "ipython3",
   "version": "3.7.4"
  }
 },
 "nbformat": 4,
 "nbformat_minor": 2
}
